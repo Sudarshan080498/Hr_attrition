{
 "cells": [
  {
   "cell_type": "code",
   "execution_count": 1,
   "id": "7d76d4b7-97e1-4887-a570-509ba3990972",
   "metadata": {},
   "outputs": [],
   "source": [
    "import pandas as pd"
   ]
  },
  {
   "cell_type": "code",
   "execution_count": null,
   "id": "ad50b83a-931e-4672-b943-295916f51833",
   "metadata": {},
   "outputs": [],
   "source": [
    "pd.set_option('display.max_columns', None)"
   ]
  },
  {
   "cell_type": "code",
   "execution_count": null,
   "id": "82fa237e-9719-4f32-8e6d-b5594dee66f0",
   "metadata": {},
   "outputs": [],
   "source": [
    "df = pd.read_csv(Human_Resources.csv)"
   ]
  }
 ],
 "metadata": {
  "kernelspec": {
   "display_name": "Python 3 (ipykernel)",
   "language": "python",
   "name": "python3"
  },
  "language_info": {
   "codemirror_mode": {
    "name": "ipython",
    "version": 3
   },
   "file_extension": ".py",
   "mimetype": "text/x-python",
   "name": "python",
   "nbconvert_exporter": "python",
   "pygments_lexer": "ipython3",
   "version": "3.8.0"
  }
 },
 "nbformat": 4,
 "nbformat_minor": 5
}
